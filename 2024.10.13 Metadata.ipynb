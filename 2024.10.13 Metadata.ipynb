{
 "cells": [
  {
   "cell_type": "code",
   "execution_count": 3,
   "id": "c36c6b20-2793-4294-936e-6a76c85db678",
   "metadata": {},
   "outputs": [
    {
     "name": "stdout",
     "output_type": "stream",
     "text": [
      "CSV file 'rejected_extracted_pub_dates.csv' has been updated with new metadata (file names, publication dates, titles, contributors, and years).\n"
     ]
    }
   ],
   "source": [
    "import bz2\n",
    "import orjson\n",
    "import csv\n",
    "import pandas as pd\n",
    "\n",
    "# extract publication date, title, author and year from the metadata\n",
    "def extract_metadata(file_name):\n",
    "    try:\n",
    "        # open and read file\n",
    "        with bz2.BZ2File(file_name, 'rb') as input_file:\n",
    "            input_file_content = input_file.read()\n",
    "            json_input = input_file_content.decode('utf-8')\n",
    "\n",
    "            # load the JSON content using orjson\n",
    "            data = orjson.loads(json_input)\n",
    "\n",
    "            # extract metadata\n",
    "            metadata = data.get('metadata', {})\n",
    "            pub_date = metadata.get('pubDate')\n",
    "            title = metadata.get('title')\n",
    "            contributors = metadata.get('contributor', [])\n",
    "            year = metadata.get('year')\n",
    "\n",
    "            # handle different contributor structures\n",
    "            first_contributor = None\n",
    "            if isinstance(contributors, list) and len(contributors) > 0:\n",
    "                first_contributor = contributors[0].get('name', None)\n",
    "            elif isinstance(contributors, dict):\n",
    "                first_contributor = contributors.get('name', None)\n",
    "\n",
    "            # return relevant metadata even if some fields are missing\n",
    "            return file_name[34:], pub_date, title, first_contributor, year\n",
    "\n",
    "    except Exception as e:\n",
    "        # throw errors\n",
    "        print(f\"Error processing {file_name}: {e}\")\n",
    "\n",
    "    # return placeholder values\n",
    "    return file_name[34:], None, None, None, None\n",
    "\n",
    "# load the list of text files written in english\n",
    "file_path = 'engtexts.txt'\n",
    "with open(file_path, 'r') as file:\n",
    "    # read and split lines\n",
    "    paths = file.read().splitlines()\n",
    "\n",
    "# loading existing data if it already exists\n",
    "csv_file = 'extracted_metadata.csv'\n",
    "try:\n",
    "    dated_texts = pd.read_csv(csv_file)\n",
    "    # find starting index for new paths\n",
    "    index = paths.index(list(dated_texts['file_name'])[-1]) + 1\n",
    "except (FileNotFoundError, IndexError):\n",
    "    # if the file doesn't already exist start from the beginning\n",
    "    index = 0\n",
    "\n",
    "# slice paths to process only new files\n",
    "paths = paths[index:]\n",
    "\n",
    "# add folder prefix\n",
    "prefix = '../../Volumes/My Passport for Mac/'\n",
    "paths = [prefix + filename for filename in paths]\n",
    "\n",
    "# open the csv in append\n",
    "with open(csv_file, mode='a', newline='', encoding='utf-8') as file:\n",
    "    writer = csv.writer(file)\n",
    "\n",
    "    # write the header row if it is new\n",
    "    if index == 0:\n",
    "        writer.writerow([\"file_name\", \"pub_date\", \"title\", \"first_contributor\", \"year\"])\n",
    "\n",
    "    # iterate through\n",
    "    for name in paths:\n",
    "        extracted_metadata = extract_metadata(name)\n",
    "        if extracted_metadata:\n",
    "            writer.writerow(extracted_metadata)\n",
    "\n",
    "print(f\"CSV file '{csv_file}' has been updated with new metadata (file names, publication dates, titles, contributors, and years).\")\n"
   ]
  },
  {
   "cell_type": "code",
   "execution_count": null,
   "id": "00ab71c4-fe28-4227-93f9-36748f708e02",
   "metadata": {},
   "outputs": [],
   "source": []
  }
 ],
 "metadata": {
  "kernelspec": {
   "display_name": "Python 3 (ipykernel)",
   "language": "python",
   "name": "python3"
  },
  "language_info": {
   "codemirror_mode": {
    "name": "ipython",
    "version": 3
   },
   "file_extension": ".py",
   "mimetype": "text/x-python",
   "name": "python",
   "nbconvert_exporter": "python",
   "pygments_lexer": "ipython3",
   "version": "3.12.3"
  }
 },
 "nbformat": 4,
 "nbformat_minor": 5
}
