{
 "cells": [
  {
   "cell_type": "code",
   "execution_count": null,
   "id": "479ac3d6-337b-4c84-b318-8cd3bd83bddc",
   "metadata": {},
   "outputs": [],
   "source": [
    "import bz2\n",
    "import orjson\n",
    "import csv\n",
    "import pandas as pd\n",
    "\n",
    "# Function to extract pubDate from the metadata portion\n",
    "def extract_pub_date(file_name):\n",
    "    try:\n",
    "        # Open and read the bz2 compressed file\n",
    "        with bz2.BZ2File(file_name, 'rb') as input_file:\n",
    "            input_file_content = input_file.read()\n",
    "            json_input = input_file_content.decode('utf-8')\n",
    "\n",
    "            # Load the JSON content using orjson\n",
    "            data = orjson.loads(json_input)\n",
    "\n",
    "            # Extract the metadata portion and get the pubDate\n",
    "            metadata = data.get('metadata', {})\n",
    "            pub_date = metadata.get('pubDate')\n",
    "\n",
    "            # If pubDate is found, return it with the file name for identification\n",
    "            if pub_date:\n",
    "                return file_name[34:], pub_date\n",
    "\n",
    "    except Exception as e:\n",
    "        # Print out any errors encountered during processing\n",
    "        print(f\"Error processing {file_name}: {e}\")\n",
    "\n",
    "    # If no valid pubDate is found or an error occurred, return None\n",
    "    return None\n",
    "\n",
    "# Load the list of file paths from a text file\n",
    "file_path = 'engtexts.txt'\n",
    "with open(file_path, 'r') as file:\n",
    "    # Read and split lines into a list of paths\n",
    "    paths = file.read().splitlines()\n",
    "\n",
    "# Load the existing data if the file already exists\n",
    "csv_file = 'extracted_pub_dates.csv'\n",
    "try:\n",
    "    dated_texts = pd.read_csv(csv_file)\n",
    "    # Find the starting index for new paths\n",
    "    index = paths.index(list(dated_texts['file_name'])[-1]) + 1\n",
    "except (FileNotFoundError, IndexError):\n",
    "    # If the file does not exist or there are no records, start from the beginning\n",
    "    index = 0\n",
    "\n",
    "# Slice paths to process only new files\n",
    "paths = paths[index:]\n",
    "\n",
    "# Add the folder prefix for the file locations\n",
    "prefix = '../../Volumes/My Passport for Mac/'\n",
    "paths = [prefix + filename for filename in paths]\n",
    "\n",
    "# Open the CSV file in append mode and write only new entries\n",
    "with open(csv_file, mode='a', newline='', encoding='utf-8') as file:\n",
    "    writer = csv.writer(file)\n",
    "\n",
    "    # Write the header row if the file was just created\n",
    "    if index == 0:\n",
    "        writer.writerow([\"file_name\", \"pub_date\"])\n",
    "\n",
    "    # Iterate through each JSON file path and append the pubDate to the CSV\n",
    "    for name in paths:\n",
    "        extracted_date = extract_pub_date(name)\n",
    "        if extracted_date:\n",
    "            writer.writerow(extracted_date)\n",
    "\n",
    "print(f\"CSV file '{csv_file}' has been updated with new file names and publication dates.\")\n"
   ]
  },
  {
   "cell_type": "code",
   "execution_count": 1,
   "id": "61324114-b9fa-48f3-9641-b36acf56d6de",
   "metadata": {},
   "outputs": [],
   "source": []
  },
  {
   "cell_type": "code",
   "execution_count": 25,
   "id": "c31c951b-f302-42a0-a615-196dd61ca928",
   "metadata": {},
   "outputs": [
    {
     "data": {
      "text/plain": [
       "'aeu/a+30000/aeu.ark+=13960=t09w0x60d.json.bz2'"
      ]
     },
     "execution_count": 25,
     "metadata": {},
     "output_type": "execute_result"
    }
   ],
   "source": []
  },
  {
   "cell_type": "code",
   "execution_count": 35,
   "id": "6081bcbb-145b-417e-a2e6-70af71e33b32",
   "metadata": {},
   "outputs": [],
   "source": [
    "index = paths.index(list(dated_texts['file_name'])[-1])"
   ]
  },
  {
   "cell_type": "code",
   "execution_count": 36,
   "id": "1dfd0fad-85f6-4ebf-bde8-2ffa75ef8a8b",
   "metadata": {},
   "outputs": [
    {
     "data": {
      "text/plain": [
       "339103"
      ]
     },
     "execution_count": 36,
     "metadata": {},
     "output_type": "execute_result"
    }
   ],
   "source": [
    "index"
   ]
  },
  {
   "cell_type": "code",
   "execution_count": null,
   "id": "f1db477f-57bb-4a6d-b7c4-fa897ba55a2a",
   "metadata": {},
   "outputs": [],
   "source": []
  }
 ],
 "metadata": {
  "kernelspec": {
   "display_name": "Python 3 (ipykernel)",
   "language": "python",
   "name": "python3"
  },
  "language_info": {
   "codemirror_mode": {
    "name": "ipython",
    "version": 3
   },
   "file_extension": ".py",
   "mimetype": "text/x-python",
   "name": "python",
   "nbconvert_exporter": "python",
   "pygments_lexer": "ipython3",
   "version": "3.12.3"
  }
 },
 "nbformat": 4,
 "nbformat_minor": 5
}
